{
 "cells": [
  {
   "cell_type": "code",
   "execution_count": 1,
   "id": "3055aaeb-120a-4828-8ea6-24b80c9d099e",
   "metadata": {},
   "outputs": [
    {
     "data": {
      "text/plain": [
       "'1.2.4'"
      ]
     },
     "execution_count": 1,
     "metadata": {},
     "output_type": "execute_result"
    }
   ],
   "source": [
    "import pandas\n",
    "pandas.__version__"
   ]
  },
  {
   "cell_type": "code",
   "execution_count": 2,
   "id": "11a21cab-30bc-4816-be38-270f30766216",
   "metadata": {},
   "outputs": [],
   "source": [
    "import pandas as pd\n",
    "import sqlite3 as db"
   ]
  },
  {
   "cell_type": "code",
   "execution_count": 3,
   "id": "84b3d5c4-8398-4c23-8fc2-4d9c0cc81e7c",
   "metadata": {},
   "outputs": [],
   "source": [
    "# Read the data from the sheet named \"data\"\n",
    "df = pd.read_excel('skill_test_data.xlsx', sheet_name='data')"
   ]
  },
  {
   "cell_type": "code",
   "execution_count": 4,
   "id": "02aeb685-cda5-4a43-bacf-2392d85b82dd",
   "metadata": {},
   "outputs": [],
   "source": [
    "# Create the pivot table\n",
    "pivot_table = pd.pivot_table(df, \n",
    "                             values=['Spend', 'Attributed Rev (1d)', 'Imprs', 'Visits', 'New Visits', 'Transactions (1d)','Email Signups (1d)'], \n",
    "                             index=['Platform (Northbeam)'], \n",
    "                             aggfunc='sum', \n",
    "                             margins='true',\n",
    "                             margins_name='Grand Total')"
   ]
  },
  {
   "cell_type": "code",
   "execution_count": 5,
   "id": "1262c89c-a87b-4da6-bcee-3d8ec97a2699",
   "metadata": {},
   "outputs": [],
   "source": [
    "# Rearrange the Columns to match the pivot_table Columns from Excel\n",
    "pivot_table = pivot_table.reindex(columns=['Spend', 'Attributed Rev (1d)', 'Imprs', 'Visits', 'New Visits', 'Transactions (1d)','Email Signups (1d)'])\n",
    "\n",
    "# Sort the pivot table by revenue in descending order\n",
    "pivot_table = pivot_table.sort_values(by='Attributed Rev (1d)', ascending=False)\n",
    "\n",
    "# Round the values to two decimal places\n",
    "pivot_table = pivot_table.round(2)"
   ]
  },
  {
   "cell_type": "code",
   "execution_count": 15,
   "id": "14066bea-1503-4f2c-9ea6-70f334fd1cba",
   "metadata": {
    "scrolled": true
   },
   "outputs": [
    {
     "name": "stdout",
     "output_type": "stream",
     "text": [
      "                         Spend  Attributed Rev (1d)      Imprs   Visits  \\\n",
      "Platform (Northbeam)                                                      \n",
      "Grand Total           59409.97            117093.57  2761059.0  29193.0   \n",
      "Google Ads            28228.10             90448.41  1476413.0  16391.0   \n",
      "Facebook Ads          30073.42             49872.23  1225850.0  18298.0   \n",
      "Organic                   0.00             45056.68        0.0  24377.0   \n",
      "Organic Search            0.00             24479.03        0.0   5575.0   \n",
      "Unattributed              0.00              4860.46        0.0      0.0   \n",
      "Instagram Organic         0.00              2614.29        0.0    557.0   \n",
      "Other                     0.00              2205.55        0.0    643.0   \n",
      "Other Email               0.00              1521.82        0.0    435.0   \n",
      "TikTok                 1108.45              1360.64    58796.0    526.0   \n",
      "Facebook Organic          0.00              1231.29        0.0    544.0   \n",
      "YouTube Organic           0.00               450.83        0.0    156.0   \n",
      "SMSBump                   0.00               296.04        0.0     57.0   \n",
      "Transactional             0.00               136.33        0.0     43.0   \n",
      "Klaviyo                   0.00                84.85        0.0     10.0   \n",
      "Discount Site             0.00                59.83        0.0     36.0   \n",
      "Yotpo                     0.00                 0.00        0.0     17.0   \n",
      "LinkedIn Ads              0.00                 0.00        0.0      2.0   \n",
      "LinkTree                  0.00                 0.00        0.0    294.0   \n",
      "Pinterest                 0.00                 0.00        0.0     27.0   \n",
      "Reddit                    0.00                 0.00        0.0     37.0   \n",
      "Snapchat Ads              0.00                 0.00        0.0      3.0   \n",
      "Twitter                   0.00                 0.00        0.0      8.0   \n",
      "\n",
      "                      New Visits  Transactions (1d)  Email Signups (1d)  \n",
      "Platform (Northbeam)                                                     \n",
      "Grand Total              21764.0             753.46             1241.64  \n",
      "Google Ads               11927.0             591.09              774.25  \n",
      "Facebook Ads             13864.0             314.35              799.21  \n",
      "Organic                   9741.0             342.87              303.24  \n",
      "Organic Search            4160.0             163.03              269.62  \n",
      "Unattributed                 0.0              58.00               36.00  \n",
      "Instagram Organic          454.0              17.03               53.75  \n",
      "Other                      365.0              28.18               21.95  \n",
      "Other Email                138.0              13.20                3.00  \n",
      "TikTok                     269.0               8.26               21.28  \n",
      "Facebook Organic           460.0               7.83               34.70  \n",
      "YouTube Organic            142.0               3.00               13.00  \n",
      "SMSBump                     19.0               2.00                5.17  \n",
      "Transactional               18.0               0.72                1.00  \n",
      "Klaviyo                      7.0               0.50                0.00  \n",
      "Discount Site               24.0               0.43                0.10  \n",
      "Yotpo                        8.0               0.00                0.00  \n",
      "LinkedIn Ads                 2.0               0.00                0.00  \n",
      "LinkTree                   286.0               0.00                8.00  \n",
      "Pinterest                   23.0               0.00                0.00  \n",
      "Reddit                      37.0               0.00                0.00  \n",
      "Snapchat Ads                 2.0               0.00                0.00  \n",
      "Twitter                      7.0               0.00                0.00  \n"
     ]
    }
   ],
   "source": [
    "print(pivot_table)"
   ]
  },
  {
   "cell_type": "code",
   "execution_count": 7,
   "id": "0da484ec-6d51-41ef-bf89-961bc5e37d9e",
   "metadata": {},
   "outputs": [],
   "source": [
    "# Connect to the SQLite database\n",
    "conn = db.connect('data_test.db')"
   ]
  },
  {
   "cell_type": "code",
   "execution_count": 8,
   "id": "f73fb107",
   "metadata": {},
   "outputs": [
    {
     "data": {
      "text/plain": [
       "<sqlite3.Cursor at 0x1cf45b02570>"
      ]
     },
     "execution_count": 8,
     "metadata": {},
     "output_type": "execute_result"
    }
   ],
   "source": [
    "# Create a table in the database\n",
    "create_sql = \"CREATE TABLE IF NOT EXISTS pivot_table ([Platform (Northbeam)] VARCHAR, Spend REAL, [Attributed Rev (1d)] REAL, Imprs REAL, Visits INTEGER, [New Visits] INTEGER, [Transactions (1d)] REAL, [Email Signups (1d)] REAL)\"\n",
    "cursor = conn.cursor()\n",
    "cursor.execute(create_sql)"
   ]
  },
  {
   "cell_type": "code",
   "execution_count": 11,
   "id": "de7fa0f7",
   "metadata": {},
   "outputs": [],
   "source": [
    "# Insert the values into the database\n",
    "for row in pivot_table.itertuples():\n",
    "    insert_sql = f\"INSERT INTO pivot_table ([Platform (Northbeam)], Spend, `Attributed Rev (1d)`, Imprs, Visits, `New Visits`, `Transactions (1d)`, `Email Signups (1d)`) VALUES ('{row[0]}', {row[1]}, {row[2]}, {row[3]}, {row[4]}, {row[5]}, {row[6]}, {row[7]})\"\n",
    "    cursor.execute(insert_sql)"
   ]
  },
  {
   "cell_type": "code",
   "execution_count": 12,
   "id": "3dd92144",
   "metadata": {},
   "outputs": [],
   "source": [
    "conn.commit()"
   ]
  }
 ],
 "metadata": {
  "kernelspec": {
   "display_name": "Python 3",
   "language": "python",
   "name": "python3"
  },
  "language_info": {
   "codemirror_mode": {
    "name": "ipython",
    "version": 3
   },
   "file_extension": ".py",
   "mimetype": "text/x-python",
   "name": "python",
   "nbconvert_exporter": "python",
   "pygments_lexer": "ipython3",
   "version": "3.8.8"
  }
 },
 "nbformat": 4,
 "nbformat_minor": 5
}
